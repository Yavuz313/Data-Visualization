{
 "cells": [
  {
   "cell_type": "code",
   "execution_count": 1,
   "id": "9d1b336c-9c41-4a8a-8076-2d672fe48f42",
   "metadata": {},
   "outputs": [],
   "source": [
    "import pandas as pd\n",
    "import numpy as np\n",
    "import matplotlib as mpl\n",
    "import matplotlib.pyplot as plt\n",
    "import seaborn as sns\n",
    "import warnings\n",
    "warnings.filterwarnings(\"ignore\")"
   ]
  },
  {
   "cell_type": "markdown",
   "id": "5a5a400b-7478-46db-afc4-03dd771d8bbe",
   "metadata": {},
   "source": [
    "## Distributions Plot"
   ]
  },
  {
   "cell_type": "code",
   "execution_count": null,
   "id": "fa472f70-13fd-4bb3-9784-f3992c2421f7",
   "metadata": {},
   "outputs": [],
   "source": [
    "sns.displot(x = \"total\")"
   ]
  },
  {
   "cell_type": "code",
   "execution_count": null,
   "id": "2a425470-3c04-439e-9612-f9672baa04e0",
   "metadata": {},
   "outputs": [],
   "source": []
  },
  {
   "cell_type": "code",
   "execution_count": null,
   "id": "ad42bf59-3e51-4440-8cbf-d825d13cf340",
   "metadata": {},
   "outputs": [],
   "source": []
  },
  {
   "cell_type": "code",
   "execution_count": null,
   "id": "8c6337da-1e65-4cb7-a35f-0cd241bb3bb9",
   "metadata": {},
   "outputs": [],
   "source": []
  },
  {
   "cell_type": "code",
   "execution_count": null,
   "id": "c5dd66ae-b216-4dfb-b582-165618569500",
   "metadata": {},
   "outputs": [],
   "source": []
  },
  {
   "cell_type": "code",
   "execution_count": null,
   "id": "905a920e-d0fd-41ef-a58f-c022f54c221c",
   "metadata": {},
   "outputs": [],
   "source": []
  },
  {
   "cell_type": "code",
   "execution_count": null,
   "id": "5921f60f-53ab-4bb4-83b2-5769ed999c12",
   "metadata": {},
   "outputs": [],
   "source": []
  },
  {
   "cell_type": "code",
   "execution_count": null,
   "id": "d642a588-5687-4c66-a232-61394fa56aba",
   "metadata": {},
   "outputs": [],
   "source": []
  },
  {
   "cell_type": "code",
   "execution_count": null,
   "id": "6b266561-a42d-4e88-bad7-a1b9435ec40e",
   "metadata": {},
   "outputs": [],
   "source": []
  },
  {
   "cell_type": "code",
   "execution_count": null,
   "id": "25514c43-8fbe-4a4b-b8a7-8289ee5dd219",
   "metadata": {},
   "outputs": [],
   "source": []
  },
  {
   "cell_type": "code",
   "execution_count": null,
   "id": "4eaba9ac-a380-43ec-bda3-2e547c3a3683",
   "metadata": {},
   "outputs": [],
   "source": []
  },
  {
   "cell_type": "code",
   "execution_count": null,
   "id": "01507b5f-8b34-4baf-a3af-c9ef13e11fe3",
   "metadata": {},
   "outputs": [],
   "source": []
  },
  {
   "cell_type": "code",
   "execution_count": null,
   "id": "4f0252c8-bf83-4ed4-b25f-be5e50b4a3e2",
   "metadata": {},
   "outputs": [],
   "source": []
  }
 ],
 "metadata": {
  "kernelspec": {
   "display_name": "Python 3 (ipykernel)",
   "language": "python",
   "name": "python3"
  },
  "language_info": {
   "codemirror_mode": {
    "name": "ipython",
    "version": 3
   },
   "file_extension": ".py",
   "mimetype": "text/x-python",
   "name": "python",
   "nbconvert_exporter": "python",
   "pygments_lexer": "ipython3",
   "version": "3.11.7"
  }
 },
 "nbformat": 4,
 "nbformat_minor": 5
}
